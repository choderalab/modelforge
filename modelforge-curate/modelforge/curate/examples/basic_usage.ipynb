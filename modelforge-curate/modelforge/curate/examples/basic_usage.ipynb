{
 "cells": [
  {
   "cell_type": "markdown",
   "id": "2b1e109f-b2f5-42a8-bcc3-0acf2d7af9a0",
   "metadata": {},
   "source": [
    "# modelforge.curate : Basic Usage\n",
    "\n",
    "This notebook will demonstrate basic usage of the `curate` module in modelforge, developed to make it easier to create modelforge compatible datasets with a uniform structure and an emphasis of validation at the time of construction. \n",
    "\n",
    "In the curate module, we have 3 levels of hierarchy: \n",
    "\n",
    "- dataset (i.e., an instance of `SourceDataset`) at the top most level\n",
    "- the dataset contains records (instances of the `Record` class)\n",
    "- each record contains properties (each is a Pydantic model that is a child of the `PropertyBaseModel` class)\n"
   ]
  },
  {
   "cell_type": "code",
   "execution_count": 1,
   "id": "6cf4ef4a-d9b9-49bc-bd8a-3f5e62953c5c",
   "metadata": {},
   "outputs": [],
   "source": [
    "from modelforge.curate import Record, SourceDataset\n",
    "from modelforge.curate.units import GlobalUnitSystem\n",
    "from modelforge.curate.properties import AtomicNumbers, Positions, Energies, Forces, MetaData\n",
    "\n",
    "from openff.units import unit\n",
    "\n",
    "import numpy as np"
   ]
  },
  {
   "cell_type": "markdown",
   "id": "bcfb4ef7-18f9-41dd-9b08-14bb8afd88d7",
   "metadata": {},
   "source": [
    "### Set up a new dataset\n",
    "To start, we will create a new instance of the `SourceDataset` class to store the dataset, providing a name for the dataset as a string."
   ]
  },
  {
   "cell_type": "code",
   "execution_count": 2,
   "id": "bad426d0-eb06-44b3-8ec5-7bb7cb016e0a",
   "metadata": {},
   "outputs": [],
   "source": [
    "new_dataset = SourceDataset(dataset_name=\"test_dataset\")"
   ]
  },
  {
   "cell_type": "markdown",
   "id": "aae624b3-f5f1-4543-990d-be2a79697b04",
   "metadata": {},
   "source": [
    "### Create a record\n",
    "\n",
    "To create a record, we  nstantiate the `Record` class providing a unique name as a string; this name will be used within the dataset to access/update records. "
   ]
  },
  {
   "cell_type": "code",
   "execution_count": 3,
   "id": "58f90876-3bc8-4e07-b2f7-b7e65242067b",
   "metadata": {},
   "outputs": [],
   "source": [
    "record_mol1 = Record('mol1')"
   ]
  },
  {
   "cell_type": "markdown",
   "id": "e37ac0df-ff9d-4a73-ae5a-eef94ba7f17e",
   "metadata": {},
   "source": [
    "### Define properties\n",
    "Each record must include a few basic elements to be considered complete, namely:\n",
    "- atomic numbers\n",
    "- positions\n",
    "- energies\n",
    "  \n",
    "Records may of course contain other properties/metadata, but this is the minimal set of information used in modelforge during training. The curate packages provides pydantic models for these and other common properties that appear in datasets.  "
   ]
  },
  {
   "cell_type": "markdown",
   "id": "2b381c6d-c740-48bb-af75-1a4c712bba8a",
   "metadata": {},
   "source": [
    "#### Defining atomic numbers\n",
    "Let us first start by considering how to initialize atomic numbers, in this case for an example CH molecule:"
   ]
  },
  {
   "cell_type": "code",
   "execution_count": 4,
   "id": "587ce24b-4d72-40fb-a850-d0f85079178b",
   "metadata": {},
   "outputs": [],
   "source": [
    "atomic_numbers = AtomicNumbers(value=np.array([[1], [6]]))"
   ]
  },
  {
   "cell_type": "markdown",
   "id": "00f90255-9b73-44bc-a24b-bd21eabf6e32",
   "metadata": {},
   "source": [
    "The array that is should have shape (n_atoms, 1).  An error will be raised if `len(value.shape) != 2` or `value.shape[1] != 1`. \n",
    "\n",
    "`AtomicNumbers` can accept either a numpy array or a python list as input (it will be converted to a numpy array internally). The following syntax will produce an equivalent instance:"
   ]
  },
  {
   "cell_type": "code",
   "execution_count": 5,
   "id": "3e19eb07-cb8d-4d5e-b54e-c18df911c697",
   "metadata": {},
   "outputs": [],
   "source": [
    "atomic_numbers = AtomicNumbers(value=[[1], [6]])"
   ]
  },
  {
   "cell_type": "markdown",
   "id": "ebefc0a9-9cde-4488-9f05-780c7856564d",
   "metadata": {},
   "source": [
    "#### Defining positions\n",
    "\n",
    "To define positions, we will use the `Positions` pydantic model.  Since positions should have units associated with them, they must also be set at the time of initialization. \n",
    "\n",
    "Units can be passed as an openff.units `Unit` or a string that can be understood by openff.units. An error will be raised if units are not defined. \n",
    "\n",
    "Positions are a per_atom property and thus must be a 3d array with shape (n_configs, n_atoms, 3).\n",
    "If `value.shape[2] !=3` or `len(value.shape) != 3`, this will raise an error.  \n",
    "\n"
   ]
  },
  {
   "cell_type": "code",
   "execution_count": 8,
   "id": "a5bcd450-3d52-4a45-ab1a-f107e11df202",
   "metadata": {},
   "outputs": [],
   "source": [
    "positions = Positions(\n",
    "    value=np.array([[[1.0, 1.0, 1.0], [2.0, 2.0, 2.0]]]), \n",
    "    units=\"nanometer\"\n",
    ")"
   ]
  },
  {
   "cell_type": "code",
   "execution_count": 9,
   "id": "711bec10-63ec-44a8-a368-f38bd3bb3577",
   "metadata": {},
   "outputs": [
    {
     "data": {
      "text/plain": [
       "Positions(name='positions', value=array([[[1., 1., 1.],\n",
       "        [2., 2., 2.]]]), units=<Unit('nanometer')>, classification='per_atom', property_type='length', n_configs=1, n_atoms=2)"
      ]
     },
     "execution_count": 9,
     "metadata": {},
     "output_type": "execute_result"
    }
   ],
   "source": [
    "positions"
   ]
  },
  {
   "cell_type": "markdown",
   "id": "144b4f9e-62b8-42b5-8e79-429e133574b4",
   "metadata": {},
   "source": [
    "#### Defining energies \n",
    "To define energies, we will use the `Energies` pydantic model; as with positions, units must also be set.  \n",
    "\n",
    "Note, energy is a per_system property and thus the shape of the input array must be (n_configs, 1); an error will be raised if `value.shape[1] !=1` or `len(value.shape) != 2`."
   ]
  },
  {
   "cell_type": "code",
   "execution_count": 12,
   "id": "e03c8a4f-a49f-444f-8b3c-252d7373e77a",
   "metadata": {},
   "outputs": [],
   "source": [
    "energies = Energies(\n",
    "    value=np.array([[0.1]]), \n",
    "    units=unit.hartree\n",
    ")"
   ]
  },
  {
   "cell_type": "markdown",
   "id": "d21b6dc0-7fa4-4a72-aa01-57326899a7b2",
   "metadata": {},
   "source": [
    "#### Other properties\n",
    "\n",
    "Pydantic models have also been defined for other common properties:\n",
    "- `Forces`\n",
    "- `PartialCharges`\n",
    "- `TotalCharge`\n",
    "- `DipoleMoment`\n",
    "- `QuadrupoleMoment`\n",
    "- `Polarizability`\n",
    "- `MetaData`\n",
    "\n",
    "Note, each of thes emodels inherits from a more general `RecordProperty` pydantic model; this model can be used to define any additional properties, but requires the user to provide the classification (e.g., per_atom, per_system) and the type (for the purposes of unit conversion, e.g., length, energy, force, charge, etc.). This will be discussed separately."
   ]
  },
  {
   "cell_type": "markdown",
   "id": "5d42293f-4a96-42ef-adb5-8fe12c6ef045",
   "metadata": {},
   "source": [
    "### Add properties to a record\n",
    "\n",
    "Having defined properties we can now add them to the record. Properties can be added individually to the record or provided as a list:"
   ]
  },
  {
   "cell_type": "code",
   "execution_count": 13,
   "id": "72291451-a62f-4780-b981-8fcd4127a9f1",
   "metadata": {},
   "outputs": [],
   "source": [
    "record_mol1.add_property(atomic_numbers)\n",
    "record_mol1.add_properties([positions,energies])"
   ]
  },
  {
   "cell_type": "markdown",
   "id": "99ee9344-8ba6-4db8-aaa2-5a2811bde1bc",
   "metadata": {},
   "source": [
    "By default when instantiating a new `Record` instance, `append_property = False`.\n",
    "If `append_property == False`, an error will be raised if you try to add a property with the same name more than once to the same record. This ensures we do not accidentally overwrite data in a record.\n",
    "\n",
    "They following will produce a ValueError because atomic numbers have already been set for the record"
   ]
  },
  {
   "cell_type": "code",
   "execution_count": 14,
   "id": "caf4f58d-502a-48ee-baec-e1fb99e094b0",
   "metadata": {},
   "outputs": [
    {
     "ename": "ValueError",
     "evalue": "Atomic numbers already set for record mol1",
     "output_type": "error",
     "traceback": [
      "\u001b[0;31m---------------------------------------------------------------------------\u001b[0m",
      "\u001b[0;31mValueError\u001b[0m                                Traceback (most recent call last)",
      "Cell \u001b[0;32mIn[9], line 1\u001b[0m\n\u001b[0;32m----> 1\u001b[0m \u001b[43mrecord_mol1\u001b[49m\u001b[38;5;241;43m.\u001b[39;49m\u001b[43madd_property\u001b[49m\u001b[43m(\u001b[49m\u001b[43matomic_numbers\u001b[49m\u001b[43m)\u001b[49m\n",
      "File \u001b[0;32m~/PycharmProjects/modelforge/modelforge-curate/modelforge/curate/curate.py:233\u001b[0m, in \u001b[0;36mRecord.add_property\u001b[0;34m(self, property)\u001b[0m\n\u001b[1;32m    230\u001b[0m \u001b[38;5;28;01mif\u001b[39;00m \u001b[38;5;28mproperty\u001b[39m\u001b[38;5;241m.\u001b[39mclassification \u001b[38;5;241m==\u001b[39m PropertyClassification\u001b[38;5;241m.\u001b[39matomic_numbers:\n\u001b[1;32m    231\u001b[0m     \u001b[38;5;66;03m# we will not allow atomic numbers to be set twice\u001b[39;00m\n\u001b[1;32m    232\u001b[0m     \u001b[38;5;28;01mif\u001b[39;00m \u001b[38;5;28mself\u001b[39m\u001b[38;5;241m.\u001b[39matomic_numbers \u001b[38;5;129;01mis\u001b[39;00m \u001b[38;5;129;01mnot\u001b[39;00m \u001b[38;5;28;01mNone\u001b[39;00m:\n\u001b[0;32m--> 233\u001b[0m         \u001b[38;5;28;01mraise\u001b[39;00m \u001b[38;5;167;01mValueError\u001b[39;00m(\u001b[38;5;124mf\u001b[39m\u001b[38;5;124m\"\u001b[39m\u001b[38;5;124mAtomic numbers already set for record \u001b[39m\u001b[38;5;132;01m{\u001b[39;00m\u001b[38;5;28mself\u001b[39m\u001b[38;5;241m.\u001b[39mname\u001b[38;5;132;01m}\u001b[39;00m\u001b[38;5;124m\"\u001b[39m)\n\u001b[1;32m    235\u001b[0m     \u001b[38;5;28mself\u001b[39m\u001b[38;5;241m.\u001b[39matomic_numbers \u001b[38;5;241m=\u001b[39m \u001b[38;5;28mproperty\u001b[39m\u001b[38;5;241m.\u001b[39mmodel_copy(deep\u001b[38;5;241m=\u001b[39m\u001b[38;5;28;01mTrue\u001b[39;00m)\n\u001b[1;32m    237\u001b[0m     \u001b[38;5;66;03m# Note, the number of atoms will always be set by the atomic_numbers property.\u001b[39;00m\n\u001b[1;32m    238\u001b[0m     \u001b[38;5;66;03m# We will later validate that per_atom properties are consistent with this value later\u001b[39;00m\n\u001b[1;32m    239\u001b[0m     \u001b[38;5;66;03m# since we are not enforcing that atomic_numbers need to be set before any other property\u001b[39;00m\n",
      "\u001b[0;31mValueError\u001b[0m: Atomic numbers already set for record mol1"
     ]
    }
   ],
   "source": [
    "record_mol1.add_property(atomic_numbers)"
   ]
  },
  {
   "cell_type": "markdown",
   "id": "da729abe-5559-466a-8c1a-54de47957969",
   "metadata": {},
   "source": [
    "## Add a record to a dataset\n",
    "\n",
    "To add a record to the dataset, we use the `add_record` function of `SourceDataset`."
   ]
  },
  {
   "cell_type": "code",
   "execution_count": 15,
   "id": "56329f06-7440-44e9-82aa-4a1a38e1b874",
   "metadata": {},
   "outputs": [],
   "source": [
    "new_dataset.add_record(record_mol1)"
   ]
  },
  {
   "cell_type": "markdown",
   "id": "962b873e-587b-47c9-be6c-3af3ced73cea",
   "metadata": {},
   "source": [
    "### Viewing a record\n",
    "Printing a record provides a summary of the contents."
   ]
  },
  {
   "cell_type": "code",
   "execution_count": 16,
   "id": "cf96ffd4-de45-427c-9937-19a3ab60bf41",
   "metadata": {},
   "outputs": [
    {
     "name": "stdout",
     "output_type": "stream",
     "text": [
      "name: mol1\n",
      "* n_atoms: 2\n",
      "* n_configs: 1\n",
      "* atomic_numbers:\n",
      " -  name='atomic_numbers' value=array([[1],\n",
      "       [6]]) units=<Unit('dimensionless')> classification='atomic_numbers' property_type='atomic_numbers' n_configs=None n_atoms=2\n",
      "* per-atom properties (['positions']):\n",
      " -  name='positions' value=array([[[1., 1., 1.],\n",
      "        [2., 2., 2.]]]) units=<Unit('nanometer')> classification='per_atom' property_type='length' n_configs=1 n_atoms=2\n",
      "* per-system properties (['energies']):\n",
      " -  name='energies' value=array([[0.1]]) units=<Unit('hartree')> classification='per_system' property_type='energy' n_configs=1 n_atoms=None\n",
      "* meta_data: ([])\n",
      "\n"
     ]
    }
   ],
   "source": [
    "print(record_mol1)"
   ]
  },
  {
   "cell_type": "markdown",
   "id": "84a3cbc9-c4c0-4990-8b0a-adb675a20e0c",
   "metadata": {},
   "source": [
    "The record can also be exported to a dict. "
   ]
  },
  {
   "cell_type": "code",
   "execution_count": 17,
   "id": "38a2bed3-e521-49ae-a2ef-2ecd58d15b84",
   "metadata": {},
   "outputs": [
    {
     "data": {
      "text/plain": [
       "{'name': 'mol1',\n",
       " 'n_atoms': 2,\n",
       " 'n_configs': 1,\n",
       " 'atomic_numbers': AtomicNumbers(name='atomic_numbers', value=array([[1],\n",
       "        [6]]), units=<Unit('dimensionless')>, classification='atomic_numbers', property_type='atomic_numbers', n_configs=None, n_atoms=2),\n",
       " 'per_atom': {'positions': Positions(name='positions', value=array([[[1., 1., 1.],\n",
       "          [2., 2., 2.]]]), units=<Unit('nanometer')>, classification='per_atom', property_type='length', n_configs=1, n_atoms=2)},\n",
       " 'per_system': {'energies': Energies(name='energies', value=array([[0.1]]), units=<Unit('hartree')>, classification='per_system', property_type='energy', n_configs=1, n_atoms=None)},\n",
       " 'meta_data': {}}"
      ]
     },
     "execution_count": 17,
     "metadata": {},
     "output_type": "execute_result"
    }
   ],
   "source": [
    "record_mol1.to_dict()"
   ]
  },
  {
   "cell_type": "markdown",
   "id": "ba1f018d-5765-4b2d-86da-ff8109d899b9",
   "metadata": {},
   "source": [
    "We can easily view an individual record within a dataset using the `get_record` function in the `SourceDataset` class."
   ]
  },
  {
   "cell_type": "code",
   "execution_count": 18,
   "id": "1020acc8-7b71-4ff9-819f-9964713c6314",
   "metadata": {},
   "outputs": [
    {
     "name": "stdout",
     "output_type": "stream",
     "text": [
      "name: mol1\n",
      "* n_atoms: 2\n",
      "* n_configs: 1\n",
      "* atomic_numbers:\n",
      " -  name='atomic_numbers' value=array([[1],\n",
      "       [6]]) units=<Unit('dimensionless')> classification='atomic_numbers' property_type='atomic_numbers' n_configs=None n_atoms=2\n",
      "* per-atom properties (['positions']):\n",
      " -  name='positions' value=array([[[1., 1., 1.],\n",
      "        [2., 2., 2.]]]) units=<Unit('nanometer')> classification='per_atom' property_type='length' n_configs=1 n_atoms=2\n",
      "* per-system properties (['energies']):\n",
      " -  name='energies' value=array([[0.1]]) units=<Unit('hartree')> classification='per_system' property_type='energy' n_configs=1 n_atoms=None\n",
      "* meta_data: ([])\n",
      "\n"
     ]
    }
   ],
   "source": [
    "temp_record = new_dataset.get_record(record_name=\"mol1\")\n",
    "print(temp_record)"
   ]
  },
  {
   "cell_type": "markdown",
   "id": "dab05495-3bc3-400b-98c0-030445575820",
   "metadata": {},
   "source": [
    "Note, that `get_record` returns a copy.  If this copy is modified, the `update_record` function should be used to updated it within the dataset. \n"
   ]
  },
  {
   "cell_type": "code",
   "execution_count": 19,
   "id": "1c990c88-4230-48b0-b622-a97030a3ea4a",
   "metadata": {},
   "outputs": [
    {
     "name": "stdout",
     "output_type": "stream",
     "text": [
      "name: mol1\n",
      "* n_atoms: 2\n",
      "* n_configs: 1\n",
      "* atomic_numbers:\n",
      " -  name='atomic_numbers' value=array([[1],\n",
      "       [6]]) units=<Unit('dimensionless')> classification='atomic_numbers' property_type='atomic_numbers' n_configs=None n_atoms=2\n",
      "* per-atom properties (['positions']):\n",
      " -  name='positions' value=array([[[2, 2, 2],\n",
      "        [3, 3, 3]]]) units=<Unit('nanometer')> classification='per_atom' property_type='length' n_configs=1 n_atoms=2\n",
      "* per-system properties (['energies']):\n",
      " -  name='energies' value=array([[0.1]]) units=<Unit('hartree')> classification='per_system' property_type='energy' n_configs=1 n_atoms=None\n",
      "* meta_data: ([])\n",
      "\n"
     ]
    }
   ],
   "source": [
    "temp_record.per_atom['positions'].value = np.array([[[2,2,2], [3,3,3]]])\n",
    "\n",
    "new_dataset.update_record(temp_record)\n",
    "\n",
    "temp_record_updated = new_dataset.get_record(record_name=\"mol1\")\n",
    "print(temp_record_updated)"
   ]
  },
  {
   "cell_type": "markdown",
   "id": "6f4c3a70-6ec2-4d84-ae30-8c0768c19568",
   "metadata": {},
   "source": [
    "Note, the update function performs the update by looking at the `name` field in the record.  For example, if the name of the record is changed from \"mol1\" to \"mol5\", and \"mol5\" already exists in the dataset, it will be overwritten. Alternatively, if \"mol5\" does not exist, and error will be raised.\n",
    "\n",
    "In this case, since \"mol5\" does not exist, an error is raised."
   ]
  },
  {
   "cell_type": "code",
   "execution_count": 15,
   "id": "39ac0dfd-9205-4078-828f-a89f4a3352a5",
   "metadata": {},
   "outputs": [
    {
     "name": "stderr",
     "output_type": "stream",
     "text": [
      "\u001b[32m2025-02-06 18:50:33.127\u001b[0m | \u001b[33m\u001b[1mWARNING \u001b[0m | \u001b[36mmodelforge.curate.curate\u001b[0m:\u001b[36mupdate_record\u001b[0m:\u001b[36m479\u001b[0m - \u001b[33m\u001b[1mRecord with name mol5 does not exist in the dataset. Use the add_record function.\u001b[0m\n"
     ]
    },
    {
     "ename": "ValueError",
     "evalue": "Record with name mol5 does not exist in the dataset.",
     "output_type": "error",
     "traceback": [
      "\u001b[0;31m---------------------------------------------------------------------------\u001b[0m",
      "\u001b[0;31mValueError\u001b[0m                                Traceback (most recent call last)",
      "Cell \u001b[0;32mIn[15], line 3\u001b[0m\n\u001b[1;32m      1\u001b[0m temp_record_updated\u001b[38;5;241m.\u001b[39mname \u001b[38;5;241m=\u001b[39m \u001b[38;5;124m'\u001b[39m\u001b[38;5;124mmol5\u001b[39m\u001b[38;5;124m'\u001b[39m\n\u001b[0;32m----> 3\u001b[0m \u001b[43mnew_dataset\u001b[49m\u001b[38;5;241;43m.\u001b[39;49m\u001b[43mupdate_record\u001b[49m\u001b[43m(\u001b[49m\u001b[43mtemp_record_updated\u001b[49m\u001b[43m)\u001b[49m\n",
      "File \u001b[0;32m~/PycharmProjects/modelforge/modelforge-curate/modelforge/curate/curate.py:482\u001b[0m, in \u001b[0;36mSourceDataset.update_record\u001b[0;34m(self, record)\u001b[0m\n\u001b[1;32m    478\u001b[0m \u001b[38;5;28;01mif\u001b[39;00m \u001b[38;5;129;01mnot\u001b[39;00m record\u001b[38;5;241m.\u001b[39mname \u001b[38;5;129;01min\u001b[39;00m \u001b[38;5;28mself\u001b[39m\u001b[38;5;241m.\u001b[39mrecords\u001b[38;5;241m.\u001b[39mkeys():\n\u001b[1;32m    479\u001b[0m     log\u001b[38;5;241m.\u001b[39mwarning(\n\u001b[1;32m    480\u001b[0m         \u001b[38;5;124mf\u001b[39m\u001b[38;5;124m\"\u001b[39m\u001b[38;5;124mRecord with name \u001b[39m\u001b[38;5;132;01m{\u001b[39;00mrecord\u001b[38;5;241m.\u001b[39mname\u001b[38;5;132;01m}\u001b[39;00m\u001b[38;5;124m does not exist in the dataset. Use the add_record function.\u001b[39m\u001b[38;5;124m\"\u001b[39m\n\u001b[1;32m    481\u001b[0m     )\n\u001b[0;32m--> 482\u001b[0m     \u001b[38;5;28;01mraise\u001b[39;00m \u001b[38;5;167;01mValueError\u001b[39;00m(\n\u001b[1;32m    483\u001b[0m         \u001b[38;5;124mf\u001b[39m\u001b[38;5;124m\"\u001b[39m\u001b[38;5;124mRecord with name \u001b[39m\u001b[38;5;132;01m{\u001b[39;00mrecord\u001b[38;5;241m.\u001b[39mname\u001b[38;5;132;01m}\u001b[39;00m\u001b[38;5;124m does not exist in the dataset.\u001b[39m\u001b[38;5;124m\"\u001b[39m\n\u001b[1;32m    484\u001b[0m     )\n\u001b[1;32m    486\u001b[0m \u001b[38;5;28mself\u001b[39m\u001b[38;5;241m.\u001b[39mrecords[record\u001b[38;5;241m.\u001b[39mname] \u001b[38;5;241m=\u001b[39m copy\u001b[38;5;241m.\u001b[39mdeepcopy(record)\n",
      "\u001b[0;31mValueError\u001b[0m: Record with name mol5 does not exist in the dataset."
     ]
    }
   ],
   "source": [
    "temp_record_updated.name = 'mol5'\n",
    "\n",
    "new_dataset.update_record(temp_record_updated)"
   ]
  },
  {
   "cell_type": "markdown",
   "id": "2fe1f6ef-0e23-46da-85e3-46b174b71f93",
   "metadata": {},
   "source": [
    "If the name were changed, thus creating a new record, we would need to use the `add_record` function. "
   ]
  },
  {
   "cell_type": "code",
   "execution_count": 16,
   "id": "df3057a7-b8cc-4b3b-bbc0-efd495472569",
   "metadata": {},
   "outputs": [
    {
     "name": "stdout",
     "output_type": "stream",
     "text": [
      "dict_keys(['mol1', 'mol5'])\n"
     ]
    }
   ],
   "source": [
    "new_dataset.add_record(temp_record_updated)\n",
    "print(new_dataset.records.keys())"
   ]
  },
  {
   "cell_type": "markdown",
   "id": "deaea207-6ce4-4893-bef9-6472c5a15be6",
   "metadata": {},
   "source": [
    "To remove a record, we can use the `remove_record` function. "
   ]
  },
  {
   "cell_type": "code",
   "execution_count": 17,
   "id": "01ea537e-0452-49c2-9222-4875401ac834",
   "metadata": {},
   "outputs": [
    {
     "name": "stdout",
     "output_type": "stream",
     "text": [
      "dict_keys(['mol1'])\n"
     ]
    }
   ],
   "source": [
    "new_dataset.remove_record('mol5')\n",
    "print(new_dataset.records.keys())"
   ]
  },
  {
   "cell_type": "markdown",
   "id": "ca9a977c-0c6e-4656-9416-593636b13692",
   "metadata": {},
   "source": [
    "## Adding properties directly to a dataset\n",
    "\n",
    "Rather than creating an instance of the `Record` class and adding this to the dataset, we can use the `SourceDataset` class directly. The functions in `SourceDataset` effectively just provide wrappers to the functions that exist within the `Record` class. As such, both approaches are equivalent but one may be more convenient depending on the structure of the original dataset that is being curated. \n",
    "\n",
    "The following code performs the same functionality to create a record named \"mol1\"."
   ]
  },
  {
   "cell_type": "code",
   "execution_count": 18,
   "id": "e2c8d973-61eb-4618-9183-d2a5f4ab7dd1",
   "metadata": {},
   "outputs": [
    {
     "name": "stdout",
     "output_type": "stream",
     "text": [
      "name: mol1\n",
      "* n_atoms: 2\n",
      "* n_configs: 1\n",
      "* atomic_numbers:\n",
      " -  name='atomic_numbers' value=array([[1],\n",
      "       [6]]) units=<Unit('dimensionless')> classification='atomic_numbers' property_type='atomic_numbers' n_configs=None n_atoms=2\n",
      "* per-atom properties (['positions']):\n",
      " -  name='positions' value=array([[[1., 1., 1.],\n",
      "        [2., 2., 2.]]]) units=<Unit('nanometer')> classification='per_atom' property_type='length' n_configs=1 n_atoms=2\n",
      "* per-system properties (['energies']):\n",
      " -  name='energies' value=array([[0.1]]) units=<Unit('hartree')> classification='per_system' property_type='energy' n_configs=1 n_atoms=None\n",
      "* meta_data: ([])\n",
      "\n"
     ]
    }
   ],
   "source": [
    "new_dataset2 = SourceDataset('test_dataset.hdf5')\n",
    "\n",
    "new_dataset2.create_record('mol1')\n",
    "\n",
    "new_dataset2.add_property('mol1', atomic_numbers)\n",
    "new_dataset2.add_properties('mol1', [positions,energies])\n",
    "\n",
    "temp_record = new_dataset2.get_record('mol1')\n",
    "\n",
    "print(temp_record)"
   ]
  },
  {
   "cell_type": "markdown",
   "id": "9bb77207-f691-4cc3-be6b-30920222d2ba",
   "metadata": {},
   "source": [
    "### Validating a record\n",
    "Within these readouts, we see `n_atoms` and `n_configs` reported.  `n_atoms` is calculated from the dimensions of the atomic numbers; validation is then performed for all per_atom properties to ensure that all properties in the record have the same number of atoms.  Similarly, we validate that all per_system and per_atom properties have the same value of `n_configs` (determined by the first index of the shape of their arrays).  If the values were inconsistent, a descriptive message reporting the shape of each of the arrays would be provided. \n",
    "\n",
    "This validation can be triggered manually:"
   ]
  },
  {
   "cell_type": "code",
   "execution_count": 20,
   "id": "bcb5c1dd-49dc-448a-a861-9a39c9b28c5d",
   "metadata": {},
   "outputs": [
    {
     "data": {
      "text/plain": [
       "True"
      ]
     },
     "execution_count": 20,
     "metadata": {},
     "output_type": "execute_result"
    }
   ],
   "source": [
    "record_mol1.validate()"
   ]
  },
  {
   "cell_type": "markdown",
   "id": "9facaeac-3368-42e5-aefa-cd8d1533252d",
   "metadata": {},
   "source": [
    "More complete validation can be performed at the dataset level. This validation includes checking for each record that:\n",
    "\n",
    "- number of atoms is consistent\n",
    "- number of configurations is consistent\n",
    "- validation of units (e.g., that the unit provided for Positions is a length),\n",
    "- ensuring that at minimum, atomic numbers, positions, and energies have been defined in the dataset\n",
    "\n",
    "This can be done for individual records or on the entire dataset:"
   ]
  },
  {
   "cell_type": "code",
   "execution_count": 20,
   "id": "4ce1212f-62db-48a3-98c5-d6965b95f515",
   "metadata": {},
   "outputs": [
    {
     "data": {
      "text/plain": [
       "True"
      ]
     },
     "execution_count": 20,
     "metadata": {},
     "output_type": "execute_result"
    }
   ],
   "source": [
    "new_dataset.validate_record(\"mol1\")"
   ]
  },
  {
   "cell_type": "code",
   "execution_count": 21,
   "id": "bac9ccc5-867a-4f54-a2ea-4f74cebb6cf0",
   "metadata": {},
   "outputs": [
    {
     "name": "stderr",
     "output_type": "stream",
     "text": [
      "100%|█████████████████████████████████████████████████████████████████████████████████████████████████████████████████████████████████████████████████████████████████████████████████████████████████████████████████████████████████████████████████████████████████████████████████████████████████████████████████████████████████████████████████████████████████████████| 1/1 [00:00<00:00, 4848.91it/s]\n",
      "\u001b[32m2025-02-06 18:50:38.855\u001b[0m | \u001b[1mINFO    \u001b[0m | \u001b[36mmodelforge.curate.curate\u001b[0m:\u001b[36mvalidate_records\u001b[0m:\u001b[36m739\u001b[0m - \u001b[1mAll records validated successfully.\u001b[0m\n"
     ]
    },
    {
     "data": {
      "text/plain": [
       "True"
      ]
     },
     "execution_count": 21,
     "metadata": {},
     "output_type": "execute_result"
    }
   ],
   "source": [
    "new_dataset.validate_records()"
   ]
  },
  {
   "cell_type": "markdown",
   "id": "14815ba2-8dac-4d0b-95c6-013f9403fe99",
   "metadata": {},
   "source": [
    "### Saving to an HDF5 file\n",
    "\n",
    "To save ths to an hdf5 file, we call the `to_hdf5` function of the `SourceDataset` class, passing the output path and filename. This will automatically perform the validation discussed above before we write to the file. \n",
    "\n",
    "Additionally, when writing the file, it will convert records to a consistent unit system (by default, kilojoules_per_mole and nanometers are the base unit system for energy and distance), as defined by the `GlobalUnitSystem` class (discussed below)."
   ]
  },
  {
   "cell_type": "code",
   "execution_count": 22,
   "id": "5f32cd4f-330d-4ebf-a27f-1a36b6751103",
   "metadata": {},
   "outputs": [
    {
     "name": "stderr",
     "output_type": "stream",
     "text": [
      "\u001b[32m2025-02-06 18:50:39.877\u001b[0m | \u001b[1mINFO    \u001b[0m | \u001b[36mmodelforge.curate.curate\u001b[0m:\u001b[36mto_hdf5\u001b[0m:\u001b[36m778\u001b[0m - \u001b[1mValidating records\u001b[0m\n",
      "100%|█████████████████████████████████████████████████████████████████████████████████████████████████████████████████████████████████████████████████████████████████████████████████████████████████████████████████████████████████████████████████████████████████████████████████████████████████████████████████████████████████████████████████████████████████████████| 1/1 [00:00<00:00, 4471.54it/s]\n",
      "\u001b[32m2025-02-06 18:50:39.878\u001b[0m | \u001b[1mINFO    \u001b[0m | \u001b[36mmodelforge.curate.curate\u001b[0m:\u001b[36mvalidate_records\u001b[0m:\u001b[36m739\u001b[0m - \u001b[1mAll records validated successfully.\u001b[0m\n",
      "\u001b[32m2025-02-06 18:50:39.878\u001b[0m | \u001b[1mINFO    \u001b[0m | \u001b[36mmodelforge.curate.curate\u001b[0m:\u001b[36mto_hdf5\u001b[0m:\u001b[36m781\u001b[0m - \u001b[1mWriting records to HDF5 file\u001b[0m\n",
      "100%|██████████████████████████████████████████████████████████████████████████████████████████████████████████████████████████████████████████████████████████████████████████████████████████████████████████████████████████████████████████████████████████████████████████████████████████████████████████████████████████████████████████████████████████████████████████| 1/1 [00:00<00:00, 581.90it/s]\n"
     ]
    }
   ],
   "source": [
    "new_dataset.to_hdf5(file_path=\"./\", file_name=\"test_dataset.hdf5\")"
   ]
  },
  {
   "cell_type": "markdown",
   "id": "3cdc35f8-a8e9-4a3a-8189-8a19192afa33",
   "metadata": {},
   "source": [
    "## Defining multiple properties of the same type\n",
    "\n",
    "In the examples above, we did not provide a name to any of the properties we defined, intead using the default name in the pydantic model.  In some cases, we may wish to change this name, e.g., to match the name used in the original dataset or to be able to define multiple different energies (e.g., different contributions to the total energy, or calculated with different levels of theory). \n",
    "\n",
    "For example, let us consider that our dataset also includes a separate entry for the contribution of dispersion and we wish to store this with name 'energies_disp'.  We will add this to record \"mol`\" in the first dataset we defined.\n",
    "\n",
    "Note, since this record already exists within the dataset, we can just use the `add_property` function to avoid having to call `get_record` and then `update_record` (as shown above). "
   ]
  },
  {
   "cell_type": "code",
   "execution_count": 23,
   "id": "18a6e260-b6fe-4510-a988-db2a7cf3ebb4",
   "metadata": {},
   "outputs": [],
   "source": [
    "disp_energy = Energies(name='energies_disp', value=np.array([[0.03]]), units=unit.hartree)\n",
    "\n",
    "new_dataset.add_property(\n",
    "    record_name=\"mol1\", \n",
    "    property=disp_energy\n",
    ")"
   ]
  },
  {
   "cell_type": "code",
   "execution_count": 24,
   "id": "ca644952-baa0-4ec7-855e-26496a402226",
   "metadata": {},
   "outputs": [
    {
     "data": {
      "text/plain": [
       "name: mol1\n",
       "* n_atoms: 2\n",
       "* n_configs: 1\n",
       "* atomic_numbers:\n",
       " -  name='atomic_numbers' value=array([[1],\n",
       "       [6]]) units=<Unit('dimensionless')> classification='atomic_numbers' property_type='atomic_numbers' n_configs=None n_atoms=2\n",
       "* per-atom properties (['positions']):\n",
       " -  name='positions' value=array([[[2, 2, 2],\n",
       "        [3, 3, 3]]]) units=<Unit('nanometer')> classification='per_atom' property_type='length' n_configs=1 n_atoms=2\n",
       "* per-system properties (['energies', 'energies_disp']):\n",
       " -  name='energies' value=array([[0.1]]) units=<Unit('hartree')> classification='per_system' property_type='energy' n_configs=1 n_atoms=None\n",
       " -  name='energies_disp' value=array([[0.03]]) units=<Unit('hartree')> classification='per_system' property_type='energy' n_configs=1 n_atoms=None\n",
       "* meta_data: ([])"
      ]
     },
     "execution_count": 24,
     "metadata": {},
     "output_type": "execute_result"
    }
   ],
   "source": [
    "new_dataset.get_record('mol1')"
   ]
  },
  {
   "cell_type": "markdown",
   "id": "3bb44f6e-dd0d-4448-94fe-240061524b8f",
   "metadata": {},
   "source": [
    "Note validation to ensure that energies are included, only looks at the `property_type`, rather than looking for a specific string in the `name` that has been provided.  If an property with `property_type` that is 'energy', validation will pass. "
   ]
  },
  {
   "cell_type": "markdown",
   "id": "00ce9b70-6f36-4b67-bfb0-f4156fe7f0f9",
   "metadata": {},
   "source": [
    "## Creating an appendable record/dataset\n",
    "\n",
    "In some cases, we may not have data for all configurations saved within the same array (e.g., when fetching data from qcarchive). To aid in these dataset types, we can initialize our instance of `SourceDataset` with `append_property=True`.  In these cases, rather than providing an error if the same property is added twice to the dataset, we will instead append the data to the existing array. "
   ]
  },
  {
   "cell_type": "code",
   "execution_count": 25,
   "id": "fdfedfdc-ed1a-4c08-9229-e59f2d9765ca",
   "metadata": {},
   "outputs": [],
   "source": [
    "appendable_dataset = SourceDataset(dataset_name=\"appendable\", append_property=True)"
   ]
  },
  {
   "cell_type": "markdown",
   "id": "675fd6cf-e154-42d2-99d4-c27e487c027c",
   "metadata": {},
   "source": [
    "For simplicity, let us reuse the properties already defined above and add these to the new dataset.  Note if we do not call `create_record` first, it will automatically create the record inside the dataset, if it does not exist. "
   ]
  },
  {
   "cell_type": "code",
   "execution_count": 26,
   "id": "3cfc0db6-b8bf-40c7-8f13-1b6c8e0ccd19",
   "metadata": {},
   "outputs": [
    {
     "name": "stderr",
     "output_type": "stream",
     "text": [
      "\u001b[32m2025-02-06 18:50:44.072\u001b[0m | \u001b[1mINFO    \u001b[0m | \u001b[36mmodelforge.curate.curate\u001b[0m:\u001b[36madd_property\u001b[0m:\u001b[36m548\u001b[0m - \u001b[1mRecord with name mol2 does not exist in the dataset. Creating it now.\u001b[0m\n"
     ]
    }
   ],
   "source": [
    "appendable_dataset.add_properties(\"mol2\", [energies, atomic_numbers, positions])"
   ]
  },
  {
   "cell_type": "markdown",
   "id": "7df059a2-720c-4028-8c2c-e88e747a3a9f",
   "metadata": {},
   "source": [
    "Let us now examine the contents of the record, where we see that we only have a single configuration. "
   ]
  },
  {
   "cell_type": "code",
   "execution_count": 27,
   "id": "44009dc7-1f68-4647-8cae-446f5cbd7d5b",
   "metadata": {},
   "outputs": [
    {
     "data": {
      "text/plain": [
       "name: mol2\n",
       "* n_atoms: 2\n",
       "* n_configs: 1\n",
       "* atomic_numbers:\n",
       " -  name='atomic_numbers' value=array([[1],\n",
       "       [6]]) units=<Unit('dimensionless')> classification='atomic_numbers' property_type='atomic_numbers' n_configs=None n_atoms=2\n",
       "* per-atom properties (['positions']):\n",
       " -  name='positions' value=array([[[1., 1., 1.],\n",
       "        [2., 2., 2.]]]) units=<Unit('nanometer')> classification='per_atom' property_type='length' n_configs=1 n_atoms=2\n",
       "* per-system properties (['energies']):\n",
       " -  name='energies' value=array([[0.1]]) units=<Unit('hartree')> classification='per_system' property_type='energy' n_configs=1 n_atoms=None\n",
       "* meta_data: ([])"
      ]
     },
     "execution_count": 27,
     "metadata": {},
     "output_type": "execute_result"
    }
   ],
   "source": [
    "appendable_dataset.get_record('mol2')"
   ]
  },
  {
   "cell_type": "markdown",
   "id": "e7d98d33-b9e7-41d1-b900-c1d610231206",
   "metadata": {},
   "source": [
    "If we add the energies and positions a second time, we should see that we now have 2 configurations.  "
   ]
  },
  {
   "cell_type": "code",
   "execution_count": 28,
   "id": "141431e6-16b9-4559-9508-14338ea82858",
   "metadata": {},
   "outputs": [],
   "source": [
    "appendable_dataset.add_properties(\"mol2\", [energies, positions])"
   ]
  },
  {
   "cell_type": "code",
   "execution_count": 29,
   "id": "e066091a-f725-4c68-9ec8-fefb09ad010d",
   "metadata": {},
   "outputs": [
    {
     "data": {
      "text/plain": [
       "name: mol2\n",
       "* n_atoms: 2\n",
       "* n_configs: 2\n",
       "* atomic_numbers:\n",
       " -  name='atomic_numbers' value=array([[1],\n",
       "       [6]]) units=<Unit('dimensionless')> classification='atomic_numbers' property_type='atomic_numbers' n_configs=None n_atoms=2\n",
       "* per-atom properties (['positions']):\n",
       " -  name='positions' value=array([[[1., 1., 1.],\n",
       "        [2., 2., 2.]],\n",
       "\n",
       "       [[1., 1., 1.],\n",
       "        [2., 2., 2.]]]) units=<Unit('nanometer')> classification='per_atom' property_type='length' n_configs=2 n_atoms=2\n",
       "* per-system properties (['energies']):\n",
       " -  name='energies' value=array([[0.1],\n",
       "       [0.1]]) units=<Unit('hartree')> classification='per_system' property_type='energy' n_configs=2 n_atoms=None\n",
       "* meta_data: ([])"
      ]
     },
     "execution_count": 29,
     "metadata": {},
     "output_type": "execute_result"
    }
   ],
   "source": [
    "appendable_dataset.get_record('mol2')"
   ]
  },
  {
   "cell_type": "markdown",
   "id": "40f457d7-ce3b-410b-8d00-00b57a28918c",
   "metadata": {},
   "source": [
    "Note, atomic_numbers cannot change within a record; as such, these do not have the concept of \"n_configs\" (shape is always [n_atoms,1]).  Atomic numbers therefore do not need to (and cannot) be appended to. \n",
    "\n",
    "The following attempts to append atomic numbers a second time, leading to an error being raised. "
   ]
  },
  {
   "cell_type": "code",
   "execution_count": 30,
   "id": "e82dbb9f-e827-4115-bb45-fb7d3580838d",
   "metadata": {},
   "outputs": [
    {
     "ename": "ValueError",
     "evalue": "Atomic numbers already set for record mol2",
     "output_type": "error",
     "traceback": [
      "\u001b[0;31m---------------------------------------------------------------------------\u001b[0m",
      "\u001b[0;31mValueError\u001b[0m                                Traceback (most recent call last)",
      "Cell \u001b[0;32mIn[30], line 1\u001b[0m\n\u001b[0;32m----> 1\u001b[0m \u001b[43mappendable_dataset\u001b[49m\u001b[38;5;241;43m.\u001b[39;49m\u001b[43madd_property\u001b[49m\u001b[43m(\u001b[49m\u001b[38;5;124;43m\"\u001b[39;49m\u001b[38;5;124;43mmol2\u001b[39;49m\u001b[38;5;124;43m\"\u001b[39;49m\u001b[43m,\u001b[49m\u001b[43m \u001b[49m\u001b[43matomic_numbers\u001b[49m\u001b[43m)\u001b[49m\n",
      "File \u001b[0;32m~/PycharmProjects/modelforge/modelforge-curate/modelforge/curate/curate.py:553\u001b[0m, in \u001b[0;36mSourceDataset.add_property\u001b[0;34m(self, record_name, property)\u001b[0m\n\u001b[1;32m    548\u001b[0m     log\u001b[38;5;241m.\u001b[39minfo(\n\u001b[1;32m    549\u001b[0m         \u001b[38;5;124mf\u001b[39m\u001b[38;5;124m\"\u001b[39m\u001b[38;5;124mRecord with name \u001b[39m\u001b[38;5;132;01m{\u001b[39;00mrecord_name\u001b[38;5;132;01m}\u001b[39;00m\u001b[38;5;124m does not exist in the dataset. Creating it now.\u001b[39m\u001b[38;5;124m\"\u001b[39m\n\u001b[1;32m    550\u001b[0m     )\n\u001b[1;32m    551\u001b[0m     \u001b[38;5;28mself\u001b[39m\u001b[38;5;241m.\u001b[39mcreate_record(record_name)\n\u001b[0;32m--> 553\u001b[0m \u001b[38;5;28;43mself\u001b[39;49m\u001b[38;5;241;43m.\u001b[39;49m\u001b[43mrecords\u001b[49m\u001b[43m[\u001b[49m\u001b[43mrecord_name\u001b[49m\u001b[43m]\u001b[49m\u001b[38;5;241;43m.\u001b[39;49m\u001b[43madd_property\u001b[49m\u001b[43m(\u001b[49m\u001b[38;5;28;43mproperty\u001b[39;49m\u001b[43m)\u001b[49m\n",
      "File \u001b[0;32m~/PycharmProjects/modelforge/modelforge-curate/modelforge/curate/curate.py:233\u001b[0m, in \u001b[0;36mRecord.add_property\u001b[0;34m(self, property)\u001b[0m\n\u001b[1;32m    230\u001b[0m \u001b[38;5;28;01mif\u001b[39;00m \u001b[38;5;28mproperty\u001b[39m\u001b[38;5;241m.\u001b[39mclassification \u001b[38;5;241m==\u001b[39m PropertyClassification\u001b[38;5;241m.\u001b[39matomic_numbers:\n\u001b[1;32m    231\u001b[0m     \u001b[38;5;66;03m# we will not allow atomic numbers to be set twice\u001b[39;00m\n\u001b[1;32m    232\u001b[0m     \u001b[38;5;28;01mif\u001b[39;00m \u001b[38;5;28mself\u001b[39m\u001b[38;5;241m.\u001b[39matomic_numbers \u001b[38;5;129;01mis\u001b[39;00m \u001b[38;5;129;01mnot\u001b[39;00m \u001b[38;5;28;01mNone\u001b[39;00m:\n\u001b[0;32m--> 233\u001b[0m         \u001b[38;5;28;01mraise\u001b[39;00m \u001b[38;5;167;01mValueError\u001b[39;00m(\u001b[38;5;124mf\u001b[39m\u001b[38;5;124m\"\u001b[39m\u001b[38;5;124mAtomic numbers already set for record \u001b[39m\u001b[38;5;132;01m{\u001b[39;00m\u001b[38;5;28mself\u001b[39m\u001b[38;5;241m.\u001b[39mname\u001b[38;5;132;01m}\u001b[39;00m\u001b[38;5;124m\"\u001b[39m)\n\u001b[1;32m    235\u001b[0m     \u001b[38;5;28mself\u001b[39m\u001b[38;5;241m.\u001b[39matomic_numbers \u001b[38;5;241m=\u001b[39m \u001b[38;5;28mproperty\u001b[39m\u001b[38;5;241m.\u001b[39mmodel_copy(deep\u001b[38;5;241m=\u001b[39m\u001b[38;5;28;01mTrue\u001b[39;00m)\n\u001b[1;32m    237\u001b[0m     \u001b[38;5;66;03m# Note, the number of atoms will always be set by the atomic_numbers property.\u001b[39;00m\n\u001b[1;32m    238\u001b[0m     \u001b[38;5;66;03m# We will later validate that per_atom properties are consistent with this value later\u001b[39;00m\n\u001b[1;32m    239\u001b[0m     \u001b[38;5;66;03m# since we are not enforcing that atomic_numbers need to be set before any other property\u001b[39;00m\n",
      "\u001b[0;31mValueError\u001b[0m: Atomic numbers already set for record mol2"
     ]
    }
   ],
   "source": [
    "appendable_dataset.add_property(\"mol2\", atomic_numbers)"
   ]
  },
  {
   "cell_type": "markdown",
   "id": "18eb082f-8261-4ab1-b11c-578abb742687",
   "metadata": {},
   "source": [
    "If we try to append a property that does not have the same number of atoms, an error will be raised. For example, below we try to append positions for a configuration with 3 atoms, not 2. "
   ]
  },
  {
   "cell_type": "code",
   "execution_count": 30,
   "id": "552fc18d-288d-40fd-8a7e-d17832989478",
   "metadata": {},
   "outputs": [
    {
     "ename": "AssertionError",
     "evalue": "mol2: n_atoms of positions does not: 3 != 2.",
     "output_type": "error",
     "traceback": [
      "\u001b[0;31m---------------------------------------------------------------------------\u001b[0m",
      "\u001b[0;31mAssertionError\u001b[0m                            Traceback (most recent call last)",
      "Cell \u001b[0;32mIn[31], line 2\u001b[0m\n\u001b[1;32m      1\u001b[0m positions2 \u001b[38;5;241m=\u001b[39m Positions(value\u001b[38;5;241m=\u001b[39m[[[\u001b[38;5;241m1.0\u001b[39m, \u001b[38;5;241m1.0\u001b[39m, \u001b[38;5;241m1.0\u001b[39m], [\u001b[38;5;241m2.0\u001b[39m, \u001b[38;5;241m2.0\u001b[39m, \u001b[38;5;241m2.0\u001b[39m], [\u001b[38;5;241m3.0\u001b[39m, \u001b[38;5;241m3.0\u001b[39m, \u001b[38;5;241m3.0\u001b[39m]]], units\u001b[38;5;241m=\u001b[39m\u001b[38;5;124m\"\u001b[39m\u001b[38;5;124mangstrom\u001b[39m\u001b[38;5;124m\"\u001b[39m)\n\u001b[0;32m----> 2\u001b[0m \u001b[43mappendable_dataset\u001b[49m\u001b[38;5;241;43m.\u001b[39;49m\u001b[43madd_property\u001b[49m\u001b[43m(\u001b[49m\u001b[38;5;124;43m\"\u001b[39;49m\u001b[38;5;124;43mmol2\u001b[39;49m\u001b[38;5;124;43m\"\u001b[39;49m\u001b[43m,\u001b[49m\u001b[43m  \u001b[49m\u001b[43mpositions2\u001b[49m\u001b[43m)\u001b[49m\n",
      "File \u001b[0;32m~/PycharmProjects/modelforge/modelforge-curate/modelforge/curate/curate.py:553\u001b[0m, in \u001b[0;36mSourceDataset.add_property\u001b[0;34m(self, record_name, property)\u001b[0m\n\u001b[1;32m    548\u001b[0m     log\u001b[38;5;241m.\u001b[39minfo(\n\u001b[1;32m    549\u001b[0m         \u001b[38;5;124mf\u001b[39m\u001b[38;5;124m\"\u001b[39m\u001b[38;5;124mRecord with name \u001b[39m\u001b[38;5;132;01m{\u001b[39;00mrecord_name\u001b[38;5;132;01m}\u001b[39;00m\u001b[38;5;124m does not exist in the dataset. Creating it now.\u001b[39m\u001b[38;5;124m\"\u001b[39m\n\u001b[1;32m    550\u001b[0m     )\n\u001b[1;32m    551\u001b[0m     \u001b[38;5;28mself\u001b[39m\u001b[38;5;241m.\u001b[39mcreate_record(record_name)\n\u001b[0;32m--> 553\u001b[0m \u001b[38;5;28;43mself\u001b[39;49m\u001b[38;5;241;43m.\u001b[39;49m\u001b[43mrecords\u001b[49m\u001b[43m[\u001b[49m\u001b[43mrecord_name\u001b[49m\u001b[43m]\u001b[49m\u001b[38;5;241;43m.\u001b[39;49m\u001b[43madd_property\u001b[49m\u001b[43m(\u001b[49m\u001b[38;5;28;43mproperty\u001b[39;49m\u001b[43m)\u001b[49m\n",
      "File \u001b[0;32m~/PycharmProjects/modelforge/modelforge-curate/modelforge/curate/curate.py:288\u001b[0m, in \u001b[0;36mRecord.add_property\u001b[0;34m(self, property)\u001b[0m\n\u001b[1;32m    283\u001b[0m     \u001b[38;5;28;01mraise\u001b[39;00m \u001b[38;5;167;01mValueError\u001b[39;00m(error_msg)\n\u001b[1;32m    284\u001b[0m \u001b[38;5;66;03m# if the property already exists, we will use vstack to add it to the existing array\u001b[39;00m\n\u001b[1;32m    285\u001b[0m \u001b[38;5;66;03m# after first checking that the dimensions are consistent\u001b[39;00m\n\u001b[1;32m    286\u001b[0m \u001b[38;5;66;03m# note we do not check shape[0], as that corresponds to the number of configurations\u001b[39;00m\n\u001b[1;32m    287\u001b[0m \u001b[38;5;28;01massert\u001b[39;00m (\n\u001b[0;32m--> 288\u001b[0m     \u001b[38;5;28mself\u001b[39m\u001b[38;5;241m.\u001b[39mper_atom[\u001b[38;5;28mproperty\u001b[39m\u001b[38;5;241m.\u001b[39mname]\u001b[38;5;241m.\u001b[39mvalue\u001b[38;5;241m.\u001b[39mshape[\u001b[38;5;241m1\u001b[39m]\n\u001b[1;32m    289\u001b[0m     \u001b[38;5;241m==\u001b[39m \u001b[38;5;28mproperty\u001b[39m\u001b[38;5;241m.\u001b[39mvalue\u001b[38;5;241m.\u001b[39mshape[\u001b[38;5;241m1\u001b[39m]\n\u001b[1;32m    290\u001b[0m ), \u001b[38;5;124mf\u001b[39m\u001b[38;5;124m\"\u001b[39m\u001b[38;5;132;01m{\u001b[39;00m\u001b[38;5;28mself\u001b[39m\u001b[38;5;241m.\u001b[39mname\u001b[38;5;132;01m}\u001b[39;00m\u001b[38;5;124m: n_atoms of \u001b[39m\u001b[38;5;132;01m{\u001b[39;00m\u001b[38;5;28mproperty\u001b[39m\u001b[38;5;241m.\u001b[39mname\u001b[38;5;132;01m}\u001b[39;00m\u001b[38;5;124m does not: \u001b[39m\u001b[38;5;132;01m{\u001b[39;00m\u001b[38;5;28mproperty\u001b[39m\u001b[38;5;241m.\u001b[39mvalue\u001b[38;5;241m.\u001b[39mshape[\u001b[38;5;241m1\u001b[39m]\u001b[38;5;132;01m}\u001b[39;00m\u001b[38;5;124m != \u001b[39m\u001b[38;5;132;01m{\u001b[39;00m\u001b[38;5;28mself\u001b[39m\u001b[38;5;241m.\u001b[39mper_atom[\u001b[38;5;28mproperty\u001b[39m\u001b[38;5;241m.\u001b[39mname]\u001b[38;5;241m.\u001b[39mvalue\u001b[38;5;241m.\u001b[39mshape[\u001b[38;5;241m1\u001b[39m]\u001b[38;5;132;01m}\u001b[39;00m\u001b[38;5;124m.\u001b[39m\u001b[38;5;124m\"\u001b[39m\n\u001b[1;32m    291\u001b[0m \u001b[38;5;28;01massert\u001b[39;00m (\n\u001b[1;32m    292\u001b[0m     \u001b[38;5;28mself\u001b[39m\u001b[38;5;241m.\u001b[39mper_atom[\u001b[38;5;28mproperty\u001b[39m\u001b[38;5;241m.\u001b[39mname]\u001b[38;5;241m.\u001b[39mvalue\u001b[38;5;241m.\u001b[39mshape[\u001b[38;5;241m2\u001b[39m]\n\u001b[1;32m    293\u001b[0m     \u001b[38;5;241m==\u001b[39m \u001b[38;5;28mproperty\u001b[39m\u001b[38;5;241m.\u001b[39mvalue\u001b[38;5;241m.\u001b[39mshape[\u001b[38;5;241m2\u001b[39m]\n\u001b[1;32m    294\u001b[0m )\n\u001b[1;32m    295\u001b[0m \u001b[38;5;66;03m# In order to append to the array, everything needs to have the same units\u001b[39;00m\n\u001b[1;32m    296\u001b[0m \u001b[38;5;66;03m# We will use the units of the first property that was added\u001b[39;00m\n",
      "\u001b[0;31mAssertionError\u001b[0m: mol2: n_atoms of positions does not: 3 != 2."
     ]
    }
   ],
   "source": [
    "positions2 = Positions(value=[[[1.0, 1.0, 1.0], [2.0, 2.0, 2.0], [3.0, 3.0, 3.0]]], units=\"angstrom\")\n",
    "appendable_dataset.add_property(\"mol2\",  positions2)"
   ]
  },
  {
   "cell_type": "markdown",
   "id": "ee71ee93-e156-4842-a592-2f35420e3bec",
   "metadata": {},
   "source": [
    "In our previous definition of energies in hatree and positions in nanometer; if we were to now define properties in different, yet compatible units, these values will be automatically converted to the existing units before appending.  "
   ]
  },
  {
   "cell_type": "code",
   "execution_count": 31,
   "id": "f08f8aa5-f3ba-4cb9-91e9-e493513167f3",
   "metadata": {},
   "outputs": [],
   "source": [
    "energies2 = Energies(value=np.array([[0.1]]), units=unit.kilojoules_per_mole)\n",
    "positions2 = Positions(value=[[[1.0, 1.0, 1.0], [2.0, 2.0, 2.0]]], units=\"angstrom\")\n",
    "appendable_dataset.add_properties(\"mol2\", [energies2, positions2])"
   ]
  },
  {
   "cell_type": "markdown",
   "id": "4a3f4ac9-f5a2-4e8f-a80b-6eb69c439bfe",
   "metadata": {},
   "source": [
    "If we now print the contents, we can see we now have 3 configurations, where the final values in the position array are a factor of 0.1 smaller as the base unit was nanometers and we defined above in angstrom; similarly the final energy in energies has been appropriate converted from kilojoules per mole to hartree to match the previously defined unit. "
   ]
  },
  {
   "cell_type": "code",
   "execution_count": 32,
   "id": "82df5525-ce64-41d3-9d71-93b8fdfeb3a4",
   "metadata": {},
   "outputs": [
    {
     "data": {
      "text/plain": [
       "name: mol2\n",
       "* n_atoms: 2\n",
       "* n_configs: 3\n",
       "* atomic_numbers:\n",
       " -  name='atomic_numbers' value=array([[1],\n",
       "       [6]]) units=<Unit('dimensionless')> classification='atomic_numbers' property_type='atomic_numbers' n_configs=None n_atoms=2\n",
       "* per-atom properties (['positions']):\n",
       " -  name='positions' value=array([[[1. , 1. , 1. ],\n",
       "        [2. , 2. , 2. ]],\n",
       "\n",
       "       [[1. , 1. , 1. ],\n",
       "        [2. , 2. , 2. ]],\n",
       "\n",
       "       [[0.1, 0.1, 0.1],\n",
       "        [0.2, 0.2, 0.2]]]) units=<Unit('nanometer')> classification='per_atom' property_type='length' n_configs=3 n_atoms=2\n",
       "* per-system properties (['energies']):\n",
       " -  name='energies' value=array([[1.00000000e-01],\n",
       "       [1.00000000e-01],\n",
       "       [3.80879885e-05]]) units=<Unit('hartree')> classification='per_system' property_type='energy' n_configs=3 n_atoms=None\n",
       "* meta_data: ([])"
      ]
     },
     "execution_count": 32,
     "metadata": {},
     "output_type": "execute_result"
    }
   ],
   "source": [
    "appendable_dataset.get_record('mol2')"
   ]
  },
  {
   "cell_type": "markdown",
   "id": "95ed60f8-c36e-41bb-984d-fcfb4e351717",
   "metadata": {},
   "source": [
    "An instance of `Record` can also be set to be appendable, allowing the same workflow as above, but operating on a record directly.  "
   ]
  },
  {
   "cell_type": "code",
   "execution_count": 33,
   "id": "7a8ce2cd-a380-43ea-9605-de6d0efe5b1f",
   "metadata": {},
   "outputs": [
    {
     "name": "stdout",
     "output_type": "stream",
     "text": [
      "name: mol3\n",
      "* n_atoms: 2\n",
      "* n_configs: 3\n",
      "* atomic_numbers:\n",
      " -  name='atomic_numbers' value=array([[1],\n",
      "       [6]]) units=<Unit('dimensionless')> classification='atomic_numbers' property_type='atomic_numbers' n_configs=None n_atoms=2\n",
      "* per-atom properties (['positions']):\n",
      " -  name='positions' value=array([[[1. , 1. , 1. ],\n",
      "        [2. , 2. , 2. ]],\n",
      "\n",
      "       [[1. , 1. , 1. ],\n",
      "        [2. , 2. , 2. ]],\n",
      "\n",
      "       [[0.1, 0.1, 0.1],\n",
      "        [0.2, 0.2, 0.2]]]) units=<Unit('nanometer')> classification='per_atom' property_type='length' n_configs=3 n_atoms=2\n",
      "* per-system properties (['energies']):\n",
      " -  name='energies' value=array([[1.00000000e-01],\n",
      "       [1.00000000e-01],\n",
      "       [3.80879885e-05]]) units=<Unit('hartree')> classification='per_system' property_type='energy' n_configs=3 n_atoms=None\n",
      "* meta_data: ([])\n",
      "\n"
     ]
    }
   ],
   "source": [
    "new_record = Record('mol3', append_property=True)\n",
    "\n",
    "new_record.add_properties([energies, atomic_numbers, positions])\n",
    "\n",
    "new_record.add_properties([energies, positions])\n",
    "new_record.add_properties([energies2, positions2])\n",
    "\n",
    "print(new_record)\n"
   ]
  },
  {
   "cell_type": "markdown",
   "id": "70d3c511-e525-4eee-bd5c-3aa00b38847d",
   "metadata": {},
   "source": [
    "## Unit system and unit validation\n",
    "\n",
    "When defining individual properties, units are also validated.  When defining a property, users can specify any unit that is:\n",
    "- (1) supported by openff.units\n",
    "- (2) compatible with the parameter type (i.e., Positions expect a unit of length).\n",
    "\n",
    "Bullet 2 is assessed by comparing to the default values in the `GlobalUnitSystem` class (note, we are not making any unit conversions at the point of initializing a record, just checking for compatibility). \n",
    "\n",
    "The following will fail validation because we expect positions to be defined in distance units. "
   ]
  },
  {
   "cell_type": "code",
   "execution_count": 35,
   "id": "08fe229e-be4c-4648-80d8-8f0143aa8021",
   "metadata": {},
   "outputs": [
    {
     "ename": "ValidationError",
     "evalue": "1 validation error for Positions\n  Value error, Unit angstrom ** 2 of positions are not compatible with the property type length.\n [type=value_error, input_value={'value': [[[1.0, 1.0, 1....<Unit('angstrom ** 2')>}, input_type=dict]\n    For further information visit https://errors.pydantic.dev/2.10/v/value_error",
     "output_type": "error",
     "traceback": [
      "\u001b[0;31m---------------------------------------------------------------------------\u001b[0m",
      "\u001b[0;31mValidationError\u001b[0m                           Traceback (most recent call last)",
      "Cell \u001b[0;32mIn[35], line 1\u001b[0m\n\u001b[0;32m----> 1\u001b[0m pos \u001b[38;5;241m=\u001b[39m \u001b[43mPositions\u001b[49m\u001b[43m(\u001b[49m\u001b[43mvalue\u001b[49m\u001b[38;5;241;43m=\u001b[39;49m\u001b[43m[\u001b[49m\u001b[43m[\u001b[49m\u001b[43m[\u001b[49m\u001b[38;5;241;43m1.0\u001b[39;49m\u001b[43m,\u001b[49m\u001b[43m \u001b[49m\u001b[38;5;241;43m1.0\u001b[39;49m\u001b[43m,\u001b[49m\u001b[43m \u001b[49m\u001b[38;5;241;43m1.0\u001b[39;49m\u001b[43m]\u001b[49m\u001b[43m,\u001b[49m\u001b[43m \u001b[49m\u001b[43m[\u001b[49m\u001b[38;5;241;43m2.0\u001b[39;49m\u001b[43m,\u001b[49m\u001b[43m \u001b[49m\u001b[38;5;241;43m2.0\u001b[39;49m\u001b[43m,\u001b[49m\u001b[43m \u001b[49m\u001b[38;5;241;43m2.0\u001b[39;49m\u001b[43m]\u001b[49m\u001b[43m,\u001b[49m\u001b[43m \u001b[49m\u001b[43m[\u001b[49m\u001b[38;5;241;43m3.0\u001b[39;49m\u001b[43m,\u001b[49m\u001b[43m \u001b[49m\u001b[38;5;241;43m3.0\u001b[39;49m\u001b[43m,\u001b[49m\u001b[43m \u001b[49m\u001b[38;5;241;43m3.0\u001b[39;49m\u001b[43m]\u001b[49m\u001b[43m]\u001b[49m\u001b[43m]\u001b[49m\u001b[43m,\u001b[49m\u001b[43m \u001b[49m\u001b[43munits\u001b[49m\u001b[38;5;241;43m=\u001b[39;49m\u001b[43munit\u001b[49m\u001b[38;5;241;43m.\u001b[39;49m\u001b[43mangstrom\u001b[49m\u001b[38;5;241;43m*\u001b[39;49m\u001b[43munit\u001b[49m\u001b[38;5;241;43m.\u001b[39;49m\u001b[43mangstrom\u001b[49m\u001b[43m)\u001b[49m\n",
      "File \u001b[0;32m/opt/anaconda3/envs/modelforge311/lib/python3.12/site-packages/pydantic/main.py:214\u001b[0m, in \u001b[0;36mBaseModel.__init__\u001b[0;34m(self, **data)\u001b[0m\n\u001b[1;32m    212\u001b[0m \u001b[38;5;66;03m# `__tracebackhide__` tells pytest and some other tools to omit this function from tracebacks\u001b[39;00m\n\u001b[1;32m    213\u001b[0m __tracebackhide__ \u001b[38;5;241m=\u001b[39m \u001b[38;5;28;01mTrue\u001b[39;00m\n\u001b[0;32m--> 214\u001b[0m validated_self \u001b[38;5;241m=\u001b[39m \u001b[38;5;28;43mself\u001b[39;49m\u001b[38;5;241;43m.\u001b[39;49m\u001b[43m__pydantic_validator__\u001b[49m\u001b[38;5;241;43m.\u001b[39;49m\u001b[43mvalidate_python\u001b[49m\u001b[43m(\u001b[49m\u001b[43mdata\u001b[49m\u001b[43m,\u001b[49m\u001b[43m \u001b[49m\u001b[43mself_instance\u001b[49m\u001b[38;5;241;43m=\u001b[39;49m\u001b[38;5;28;43mself\u001b[39;49m\u001b[43m)\u001b[49m\n\u001b[1;32m    215\u001b[0m \u001b[38;5;28;01mif\u001b[39;00m \u001b[38;5;28mself\u001b[39m \u001b[38;5;129;01mis\u001b[39;00m \u001b[38;5;129;01mnot\u001b[39;00m validated_self:\n\u001b[1;32m    216\u001b[0m     warnings\u001b[38;5;241m.\u001b[39mwarn(\n\u001b[1;32m    217\u001b[0m         \u001b[38;5;124m'\u001b[39m\u001b[38;5;124mA custom validator is returning a value other than `self`.\u001b[39m\u001b[38;5;130;01m\\n\u001b[39;00m\u001b[38;5;124m'\u001b[39m\n\u001b[1;32m    218\u001b[0m         \u001b[38;5;124m\"\u001b[39m\u001b[38;5;124mReturning anything other than `self` from a top level model validator isn\u001b[39m\u001b[38;5;124m'\u001b[39m\u001b[38;5;124mt supported when validating via `__init__`.\u001b[39m\u001b[38;5;130;01m\\n\u001b[39;00m\u001b[38;5;124m\"\u001b[39m\n\u001b[1;32m    219\u001b[0m         \u001b[38;5;124m'\u001b[39m\u001b[38;5;124mSee the `model_validator` docs (https://docs.pydantic.dev/latest/concepts/validators/#model-validators) for more details.\u001b[39m\u001b[38;5;124m'\u001b[39m,\n\u001b[1;32m    220\u001b[0m         stacklevel\u001b[38;5;241m=\u001b[39m\u001b[38;5;241m2\u001b[39m,\n\u001b[1;32m    221\u001b[0m     )\n",
      "\u001b[0;31mValidationError\u001b[0m: 1 validation error for Positions\n  Value error, Unit angstrom ** 2 of positions are not compatible with the property type length.\n [type=value_error, input_value={'value': [[[1.0, 1.0, 1....<Unit('angstrom ** 2')>}, input_type=dict]\n    For further information visit https://errors.pydantic.dev/2.10/v/value_error"
     ]
    }
   ],
   "source": [
    "pos = Positions(value=[[[1.0, 1.0, 1.0], [2.0, 2.0, 2.0], [3.0, 3.0, 3.0]]], units=unit.angstrom*unit.angstrom)\n"
   ]
  },
  {
   "cell_type": "markdown",
   "id": "4085f29a-b005-4e2b-8dcb-86c58e1fca19",
   "metadata": {},
   "source": [
    "Units are stored as class attributes within the `GlobalUnitSystem` class. "
   ]
  },
  {
   "cell_type": "code",
   "execution_count": 36,
   "id": "4684a979-8564-4639-96c4-806c0ab55a8e",
   "metadata": {},
   "outputs": [
    {
     "name": "stdout",
     "output_type": "stream",
     "text": [
      "area : nanometer ** 2\n",
      "atomic_numbers : dimensionless\n",
      "charge : elementary_charge\n",
      "dimensionless : dimensionless\n",
      "dipole_moment : elementary_charge * nanometer\n",
      "energy : kilojoule_per_mole\n",
      "force : kilojoule_per_mole / nanometer\n",
      "frequency : gigahertz\n",
      "heat_capacity : kilojoule_per_mole / kelvin\n",
      "length : nanometer\n",
      "name : default\n",
      "octupole_moment : elementary_charge * nanometer ** 3\n",
      "polarizability : nanometer ** 3\n",
      "quadrupole_moment : elementary_charge * nanometer ** 2\n",
      "wavenumber : 1 / centimeter\n"
     ]
    }
   ],
   "source": [
    "from modelforge.curate.curate import GlobalUnitSystem\n",
    "print(GlobalUnitSystem())"
   ]
  },
  {
   "cell_type": "markdown",
   "id": "7fbcb58d-ac94-48ae-b234-dbf07b644f33",
   "metadata": {},
   "source": [
    "Since these are class attributes, not instance variables, any changes or additions to the `GlobalUnitSystem `will apply to all usages within the script. For example, the following will change the units for length to angstroms. "
   ]
  },
  {
   "cell_type": "code",
   "execution_count": 37,
   "id": "13a1259d-3b2c-46df-b7ce-0d26ea572282",
   "metadata": {},
   "outputs": [
    {
     "name": "stdout",
     "output_type": "stream",
     "text": [
      "angstrom\n"
     ]
    }
   ],
   "source": [
    "GlobalUnitSystem.set_global_units('length', unit.angstrom)\n",
    "\n",
    "print(GlobalUnitSystem.get_units('length'))"
   ]
  },
  {
   "cell_type": "markdown",
   "id": "7891f20e-2a77-431f-9c2d-53ba18725d35",
   "metadata": {},
   "source": [
    "The `set_global_units` function can also be used to add in a new property_type and associated units.  For example, the following would add pressure as a possible property_type. "
   ]
  },
  {
   "cell_type": "code",
   "execution_count": 38,
   "id": "97b5878b-9ad7-4bef-97af-79031c5ea269",
   "metadata": {},
   "outputs": [
    {
     "name": "stdout",
     "output_type": "stream",
     "text": [
      "standard_atmosphere\n"
     ]
    }
   ],
   "source": [
    "GlobalUnitSystem.set_global_units('pressure', unit.atmosphere)\n",
    "\n",
    "print(GlobalUnitSystem.get_units('pressure'))"
   ]
  },
  {
   "cell_type": "markdown",
   "id": "2269126d-10c9-482b-bf45-91fa906b2207",
   "metadata": {},
   "source": [
    "Changing the global unit system, e.g., making the nonsensical choice to set length to an energy unit, results in the validation to fail when defining positions with the units of angstrom. "
   ]
  },
  {
   "cell_type": "code",
   "execution_count": 39,
   "id": "a1fcc5e4-350c-4b37-bbcf-49d77f9c017a",
   "metadata": {},
   "outputs": [
    {
     "ename": "ValidationError",
     "evalue": "1 validation error for Positions\n  Value error, Unit angstrom of positions are not compatible with the property type length.\n [type=value_error, input_value={'value': [[[1.0, 1.0, 1....ts': <Unit('angstrom')>}, input_type=dict]\n    For further information visit https://errors.pydantic.dev/2.8/v/value_error",
     "output_type": "error",
     "traceback": [
      "\u001b[0;31m---------------------------------------------------------------------------\u001b[0m",
      "\u001b[0;31mValidationError\u001b[0m                           Traceback (most recent call last)",
      "Cell \u001b[0;32mIn[39], line 2\u001b[0m\n\u001b[1;32m      1\u001b[0m GlobalUnitSystem\u001b[38;5;241m.\u001b[39mset_global_units(\u001b[38;5;124m'\u001b[39m\u001b[38;5;124mlength\u001b[39m\u001b[38;5;124m'\u001b[39m, unit\u001b[38;5;241m.\u001b[39mhartree)\n\u001b[0;32m----> 2\u001b[0m pos \u001b[38;5;241m=\u001b[39m \u001b[43mPositions\u001b[49m\u001b[43m(\u001b[49m\u001b[43mvalue\u001b[49m\u001b[38;5;241;43m=\u001b[39;49m\u001b[43m[\u001b[49m\u001b[43m[\u001b[49m\u001b[43m[\u001b[49m\u001b[38;5;241;43m1.0\u001b[39;49m\u001b[43m,\u001b[49m\u001b[43m \u001b[49m\u001b[38;5;241;43m1.0\u001b[39;49m\u001b[43m,\u001b[49m\u001b[43m \u001b[49m\u001b[38;5;241;43m1.0\u001b[39;49m\u001b[43m]\u001b[49m\u001b[43m,\u001b[49m\u001b[43m \u001b[49m\u001b[43m[\u001b[49m\u001b[38;5;241;43m2.0\u001b[39;49m\u001b[43m,\u001b[49m\u001b[43m \u001b[49m\u001b[38;5;241;43m2.0\u001b[39;49m\u001b[43m,\u001b[49m\u001b[43m \u001b[49m\u001b[38;5;241;43m2.0\u001b[39;49m\u001b[43m]\u001b[49m\u001b[43m,\u001b[49m\u001b[43m \u001b[49m\u001b[43m[\u001b[49m\u001b[38;5;241;43m3.0\u001b[39;49m\u001b[43m,\u001b[49m\u001b[43m \u001b[49m\u001b[38;5;241;43m3.0\u001b[39;49m\u001b[43m,\u001b[49m\u001b[43m \u001b[49m\u001b[38;5;241;43m3.0\u001b[39;49m\u001b[43m]\u001b[49m\u001b[43m]\u001b[49m\u001b[43m]\u001b[49m\u001b[43m,\u001b[49m\u001b[43m \u001b[49m\u001b[43munits\u001b[49m\u001b[38;5;241;43m=\u001b[39;49m\u001b[43munit\u001b[49m\u001b[38;5;241;43m.\u001b[39;49m\u001b[43mangstrom\u001b[49m\u001b[43m)\u001b[49m\n",
      "File \u001b[0;32m~/anaconda3/envs/modelforge311/lib/python3.11/site-packages/pydantic/main.py:193\u001b[0m, in \u001b[0;36mBaseModel.__init__\u001b[0;34m(self, **data)\u001b[0m\n\u001b[1;32m    191\u001b[0m \u001b[38;5;66;03m# `__tracebackhide__` tells pytest and some other tools to omit this function from tracebacks\u001b[39;00m\n\u001b[1;32m    192\u001b[0m __tracebackhide__ \u001b[38;5;241m=\u001b[39m \u001b[38;5;28;01mTrue\u001b[39;00m\n\u001b[0;32m--> 193\u001b[0m \u001b[38;5;28;43mself\u001b[39;49m\u001b[38;5;241;43m.\u001b[39;49m\u001b[43m__pydantic_validator__\u001b[49m\u001b[38;5;241;43m.\u001b[39;49m\u001b[43mvalidate_python\u001b[49m\u001b[43m(\u001b[49m\u001b[43mdata\u001b[49m\u001b[43m,\u001b[49m\u001b[43m \u001b[49m\u001b[43mself_instance\u001b[49m\u001b[38;5;241;43m=\u001b[39;49m\u001b[38;5;28;43mself\u001b[39;49m\u001b[43m)\u001b[49m\n",
      "\u001b[0;31mValidationError\u001b[0m: 1 validation error for Positions\n  Value error, Unit angstrom of positions are not compatible with the property type length.\n [type=value_error, input_value={'value': [[[1.0, 1.0, 1....ts': <Unit('angstrom')>}, input_type=dict]\n    For further information visit https://errors.pydantic.dev/2.8/v/value_error"
     ]
    }
   ],
   "source": [
    "GlobalUnitSystem.set_global_units('length', unit.hartree)\n",
    "pos = Positions(value=[[[1.0, 1.0, 1.0], [2.0, 2.0, 2.0], [3.0, 3.0, 3.0]]], units=unit.angstrom)"
   ]
  },
  {
   "cell_type": "code",
   "execution_count": 40,
   "id": "29ebda4c-cb79-42ed-bb34-05a264427d08",
   "metadata": {},
   "outputs": [],
   "source": [
    "GlobalUnitSystem.set_global_units('length', unit.nanometer)"
   ]
  },
  {
   "cell_type": "markdown",
   "id": "f23d946a-668c-4cbe-9e9e-1ff43742f066",
   "metadata": {},
   "source": [
    "When hdf5 files are generated, quantities are automatically convert to the units specified in the `GlobalUnitSystem`. \n"
   ]
  },
  {
   "cell_type": "markdown",
   "id": "57df20bd-0fc8-4a7a-9c55-e9d23b66a197",
   "metadata": {},
   "source": [
    "## Metadata\n",
    "\n",
    "Meta data can be added to an individual record to provide additional details, such as smiles. "
   ]
  },
  {
   "cell_type": "code",
   "execution_count": 41,
   "id": "983e9916-c0af-4ea7-a7ea-bf0be59ea66a",
   "metadata": {},
   "outputs": [],
   "source": [
    "smiles = MetaData(name='smiles', value='[CH]')\n",
    "\n",
    "new_dataset.add_property(\"mol1\", smiles)"
   ]
  },
  {
   "cell_type": "markdown",
   "id": "afae7383-0365-4440-a880-66eef4be5f61",
   "metadata": {},
   "source": [
    "If we print the record out, we now see that the smiles now appear under the `meta_data` subheading. "
   ]
  },
  {
   "cell_type": "code",
   "execution_count": 42,
   "id": "6825879e-0667-4370-9600-1e3ffff8c945",
   "metadata": {},
   "outputs": [
    {
     "name": "stdout",
     "output_type": "stream",
     "text": [
      "name: mol1\n",
      "* n_atoms: 2\n",
      "* n_configs: 1\n",
      "* atomic_numbers:\n",
      " -  name='atomic_numbers' value=array([[1],\n",
      "       [6]]) units=<Unit('dimensionless')> classification='atomic_numbers' property_type='atomic_numbers' n_configs=None n_atoms=2\n",
      "* per-atom properties (['positions']):\n",
      " -  name='positions' value=array([[[2, 2, 2],\n",
      "        [3, 3, 3]]]) units=<Unit('nanometer')> classification='per_atom' property_type='length' n_configs=1 n_atoms=2\n",
      "* per-system properties (['energies', 'energies_disp']):\n",
      " -  name='energies' value=array([[0.1]]) units=<Unit('hartree')> classification='per_system' property_type='energy' n_configs=1 n_atoms=None\n",
      " -  name='energies_disp' value=array([[0.03]]) units=<Unit('hartree')> classification='per_system' property_type='energy' n_configs=1 n_atoms=None\n",
      "* meta_data: (['smiles'])\n",
      " -  name='smiles' value='[CH]' units=<Unit('dimensionless')> classification='meta_data' property_type='meta_data' n_configs=None n_atoms=None\n",
      "\n"
     ]
    }
   ],
   "source": [
    "mol1_rec = new_dataset.get_record('mol1')\n",
    "print(mol1_rec)"
   ]
  },
  {
   "cell_type": "markdown",
   "id": "b50b7227-3e9e-484c-8f2d-a39e8843f0c2",
   "metadata": {},
   "source": [
    "The `MetaData` pydantic model will allow users to specify a value that is either numpy array, list, string, float, or int.   Units can also be added to these values, however, validation and unit conversion will not occur on any meta data. "
   ]
  },
  {
   "cell_type": "code",
   "execution_count": 43,
   "id": "76a4ad3b-8fbe-4a72-8385-bc682b7dbcc3",
   "metadata": {},
   "outputs": [],
   "source": [
    "run_temp = MetaData(name='temperature_of_simulation', value=300, units=unit.kelvin)\n",
    "\n",
    "new_dataset.add_property('mol1', run_temp)"
   ]
  },
  {
   "cell_type": "code",
   "execution_count": 44,
   "id": "02f4a2bc-cae5-4010-a40f-088045059fa9",
   "metadata": {},
   "outputs": [
    {
     "name": "stdout",
     "output_type": "stream",
     "text": [
      "name: mol1\n",
      "* n_atoms: 2\n",
      "* n_configs: 1\n",
      "* atomic_numbers:\n",
      " -  name='atomic_numbers' value=array([[1],\n",
      "       [6]]) units=<Unit('dimensionless')> classification='atomic_numbers' property_type='atomic_numbers' n_configs=None n_atoms=2\n",
      "* per-atom properties (['positions']):\n",
      " -  name='positions' value=array([[[2, 2, 2],\n",
      "        [3, 3, 3]]]) units=<Unit('nanometer')> classification='per_atom' property_type='length' n_configs=1 n_atoms=2\n",
      "* per-system properties (['energies', 'energies_disp']):\n",
      " -  name='energies' value=array([[0.1]]) units=<Unit('hartree')> classification='per_system' property_type='energy' n_configs=1 n_atoms=None\n",
      " -  name='energies_disp' value=array([[0.03]]) units=<Unit('hartree')> classification='per_system' property_type='energy' n_configs=1 n_atoms=None\n",
      "* meta_data: (['smiles', 'temperature_of_simulation'])\n",
      " -  name='smiles' value='[CH]' units=<Unit('dimensionless')> classification='meta_data' property_type='meta_data' n_configs=None n_atoms=None\n",
      " -  name='temperature_of_simulation' value=300 units=<Unit('kelvin')> classification='meta_data' property_type='meta_data' n_configs=None n_atoms=None\n",
      "\n"
     ]
    }
   ],
   "source": [
    "mol1_rec = new_dataset.get_record('mol1')\n",
    "print(mol1_rec)"
   ]
  },
  {
   "cell_type": "code",
   "execution_count": null,
   "id": "3611948a-ec41-4277-8380-da379fd85193",
   "metadata": {},
   "outputs": [],
   "source": []
  }
 ],
 "metadata": {
  "kernelspec": {
   "display_name": "Python 3 (ipykernel)",
   "language": "python",
   "name": "python3"
  },
  "language_info": {
   "codemirror_mode": {
    "name": "ipython",
    "version": 3
   },
   "file_extension": ".py",
   "mimetype": "text/x-python",
   "name": "python",
   "nbconvert_exporter": "python",
   "pygments_lexer": "ipython3",
   "version": "3.11.8"
  }
 },
 "nbformat": 4,
 "nbformat_minor": 5
}
