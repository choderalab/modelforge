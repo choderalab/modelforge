{
 "cells": [
  {
   "cell_type": "code",
   "execution_count": null,
   "metadata": {},
   "outputs": [],
   "source": [
    "from modelforge.tests.helper_functions import setup_potential_for_test\n",
    "import torch\n",
    "from modelforge.utils.profiling import start_record_memory_history, export_memory_snapshot, stop_record_memory_history, setup_waterbox_testsystem\n"
   ]
  },
  {
   "cell_type": "code",
   "execution_count": null,
   "metadata": {},
   "outputs": [],
   "source": [
    "# --------------------------------------------------- #\n",
    "# This script demonstrates how to record memory usage #\n",
    "# --------------------------------------------------- #\n",
    "# define the potential, device and precision\n",
    "potential_name = 'AimNet2'\n",
    "precision = torch.float32\n",
    "device = 'cuda'\n",
    "\n",
    "# setup the input and model\n",
    "nnp_input = setup_waterbox_testsystem(2.5, device=device, precision=precision)\n",
    "model = setup_potential_for_test(\n",
    "    potential_name,\n",
    "    \"training\",\n",
    "    potential_seed=42,\n",
    "    use_training_mode_neighborlist=True,\n",
    "    simulation_environment='PyTorch',\n",
    ")['trainer']\n",
    "\n",
    "# this is the function that will be profiled\n",
    "def loop_to_record():\n",
    "    for _ in range(5):\n",
    "        # perform the forward pass through each of the models\n",
    "        r = model(nnp_input)[\"per_system_energy\"]\n",
    "        # Compute the gradient (forces) from the predicted energies\n",
    "        grad = torch.autograd.grad(\n",
    "            r,\n",
    "            nnp_input.positions,\n",
    "            grad_outputs=torch.ones_like(r),\n",
    "            create_graph=False,\n",
    "            retain_graph=False,\n",
    "        )[0]\n",
    "\n",
    "def loop_to_record():\n",
    "    model.train_potential()"
   ]
  },
  {
   "cell_type": "code",
   "execution_count": null,
   "metadata": {},
   "outputs": [],
   "source": [
    "# Start recording memory snapshot history\n",
    "start_record_memory_history()\n",
    "loop_to_record()\n",
    "# Create the memory snapshot file\n",
    "file_name = export_memory_snapshot()\n",
    "print(file_name)\n",
    "# Stop recording memory snapshot history\n",
    "stop_record_memory_history()\n"
   ]
  },
  {
   "cell_type": "code",
   "execution_count": null,
   "metadata": {},
   "outputs": [],
   "source": [
    "# the memory snapshot is a pickle file, to visualize this \n",
    "# create a snapshot.html file using the following command\n",
    "!python _memory_viz.py trace_plot a7srv5.pch.univie.ac.at_Nov_09_21_18_29.pickle -o snapshot.html"
   ]
  },
  {
   "cell_type": "code",
   "execution_count": null,
   "metadata": {},
   "outputs": [],
   "source": []
  }
 ],
 "metadata": {
  "kernelspec": {
   "display_name": "modelforge",
   "language": "python",
   "name": "python3"
  },
  "language_info": {
   "codemirror_mode": {
    "name": "ipython",
    "version": 3
   },
   "file_extension": ".py",
   "mimetype": "text/x-python",
   "name": "python",
   "nbconvert_exporter": "python",
   "pygments_lexer": "ipython3",
   "version": "3.11.9"
  }
 },
 "nbformat": 4,
 "nbformat_minor": 2
}
